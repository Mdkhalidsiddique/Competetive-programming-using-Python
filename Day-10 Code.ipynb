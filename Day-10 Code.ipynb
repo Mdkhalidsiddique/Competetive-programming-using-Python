{
 "cells": [
  {
   "cell_type": "markdown",
   "metadata": {},
   "source": [
    "# Sieve of Eratosthenes"
   ]
  },
  {
   "cell_type": "markdown",
   "metadata": {},
   "source": [
    "#n = 30\n",
    "for loop-O(n)\n",
    "check each element\n",
    "return"
   ]
  },
  {
   "cell_type": "code",
   "execution_count": 3,
   "metadata": {},
   "outputs": [],
   "source": [
    "from math import *\n",
    "def prime_number(n): #n*log(n)\n",
    "    prime = [True] * (n+1)\n",
    "    prime[0], prime[1] = False, False\n",
    "    for p in range(2, int(sqrt(n))+1):\n",
    "        if prime[p] == True:\n",
    "            for i in range(p*p, n+1, p): #i++\n",
    "                prime[i] = False\n",
    "    for i in range(0, len(prime)):\n",
    "        if prime[i] == True:\n",
    "            print(i, end=\" \")"
   ]
  },
  {
   "cell_type": "code",
   "execution_count": 4,
   "metadata": {},
   "outputs": [
    {
     "name": "stdout",
     "output_type": "stream",
     "text": [
      "30\n",
      "2 3 5 7 11 13 17 19 23 29 "
     ]
    }
   ],
   "source": [
    "n = int(input())\n",
    "prime_number(n)"
   ]
  }
 ],
 "metadata": {
  "kernelspec": {
   "display_name": "Python 3",
   "language": "python",
   "name": "python3"
  },
  "language_info": {
   "codemirror_mode": {
    "name": "ipython",
    "version": 3
   },
   "file_extension": ".py",
   "mimetype": "text/x-python",
   "name": "python",
   "nbconvert_exporter": "python",
   "pygments_lexer": "ipython3",
   "version": "3.7.3"
  }
 },
 "nbformat": 4,
 "nbformat_minor": 4
}
