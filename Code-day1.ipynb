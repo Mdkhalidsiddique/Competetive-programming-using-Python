{
 "cells": [
  {
   "cell_type": "code",
   "execution_count": 1,
   "metadata": {},
   "outputs": [],
   "source": [
    "# Write a code to find the 2nd largest of a given list"
   ]
  },
  {
   "cell_type": "code",
   "execution_count": 3,
   "metadata": {},
   "outputs": [
    {
     "name": "stdout",
     "output_type": "stream",
     "text": [
      "Second largest is: 51\n"
     ]
    }
   ],
   "source": [
    "list = [1,51,18,14,94]\n",
    "for elements in list:\n",
    "    if(len(list)<=0 or len(list)==1):\n",
    "        print(\"None\")\n",
    "    else:\n",
    "        print(\"Second largest is:\", sorted(list)[-2])\n",
    "        break"
   ]
  },
  {
   "cell_type": "code",
   "execution_count": 4,
   "metadata": {},
   "outputs": [],
   "source": [
    "def sec_largest(list):\n",
    "    for elements in list:\n",
    "        if(len(list)<=0 or len(list)==1):\n",
    "            print(\"None\")\n",
    "        else:\n",
    "            print(\"Second largest is:\", sorted(list)[-2])\n",
    "            break"
   ]
  },
  {
   "cell_type": "code",
   "execution_count": 5,
   "metadata": {},
   "outputs": [
    {
     "name": "stdout",
     "output_type": "stream",
     "text": [
      "Second largest is: 51\n"
     ]
    }
   ],
   "source": [
    "sec_largest(list)"
   ]
  },
  {
   "cell_type": "code",
   "execution_count": 7,
   "metadata": {},
   "outputs": [
    {
     "name": "stdout",
     "output_type": "stream",
     "text": [
      "Second lowest is: 14\n"
     ]
    }
   ],
   "source": [
    "sec_lowest(list)"
   ]
  },
  {
   "cell_type": "code",
   "execution_count": 6,
   "metadata": {},
   "outputs": [],
   "source": [
    "#second lowest\n",
    "def sec_lowest(list):\n",
    "    for elements in list:\n",
    "        if(len(list)<=0 or len(list)==1):\n",
    "            print(\"None\")\n",
    "        else:\n",
    "            print(\"Second lowest is:\", sorted(list)[1])\n",
    "            break"
   ]
  }
 ],
 "metadata": {
  "kernelspec": {
   "display_name": "Python 3",
   "language": "python",
   "name": "python3"
  },
  "language_info": {
   "codemirror_mode": {
    "name": "ipython",
    "version": 3
   },
   "file_extension": ".py",
   "mimetype": "text/x-python",
   "name": "python",
   "nbconvert_exporter": "python",
   "pygments_lexer": "ipython3",
   "version": "3.7.3"
  }
 },
 "nbformat": 4,
 "nbformat_minor": 4
}
